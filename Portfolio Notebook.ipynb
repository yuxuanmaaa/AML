{
 "cells": [
  {
   "cell_type": "markdown",
   "id": "22ca7a48",
   "metadata": {},
   "source": [
    "## Project Portfolio\n",
    "#### Mandy Ma(ym2934)\n",
    "https://github.com/yuxuanmaaa/AML.git\n",
    "In this portfolio details each of the projects I wrote for QMSSGR5074 PROJECTS IN ADVANCED MACHINE LEARNING."
   ]
  },
  {
   "attachments": {},
   "cell_type": "markdown",
   "id": "1ab6cf90",
   "metadata": {},
   "source": [
    "### [Project 1 World Happiness](https://github.com/yuxuanmaaa/AML/blob/3377297ebeea302f63e034d7182c0ca727caea61/Projects/%5BWorld_Happiness%5D_Model_Submission_Guide.ipynb)\n",
    "\n",
    "The World Happiness Report is a significant assessment that gauges the state of worldwide happiness. It evaluates factors such as corruption perception, GDP, healthy lifestyle maintenance, and social support. Utilizing this dataset and models, we can anticipate the ranking of happiness.\n",
    "\n",
    "I used the following models:\n",
    "\n",
    "\n",
    "| Accuracy    | F1 Score    | Precision   | Recall      | ML Framework | Model Type            | Num Params | Optimizer |\n",
    "|-------------|-------------|-------------|-------------|--------------|-----------------------|------------|-----------|\n",
    "| 0.470588235 | 0.47036075  | 0.597252747 | 0.495714286 | sklearn      | RandomForestClassifier | null       | null      |\n",
    "| 0.441176471 | 0.43008991  | 0.500952381 | 0.467142857 | sklearn      | LogisticRegression     | 130        | saga      |\n",
    "| 0.382352941 | 0.334222222 | 0.517777778 | 0.387142857 | sklearn      | GaussianNB            | null       | null      |\n",
    "\n",
    "\n",
    "**1. Logistic Regression**\n",
    "\n",
    "**2. Gaussian NB**\n",
    "\n",
    "**3. Random forest with GridSearcCV**\n",
    "\n",
    "From the table we could tell that *RandomForest Classification* performed the best, with an **F1 score of 0.47.**\n",
    "\n",
    "Meanwhile, looking at the top 10 models from the competition board:\n",
    "\n",
    "| Accuracy    | F1 Score    | Precision   | Recall      | ML Framework | Deep Learning | Model Type                |\n",
    "|-------------|-------------|-------------|-------------|--------------|---------------|---------------------------|\n",
    "| 0.588235294 | 0.576515152 | 0.655916306 | 0.595       | sklearn      | null          | GradientBoostingClassifier |\n",
    "| 0.588235294 | 0.576515152 | 0.655916306 | 0.595       | sklearn      | null          | GradientBoostingClassifier |\n",
    "| 0.588235294 | 0.576515152 | 0.655916306 | 0.595       | sklearn      | null          | GradientBoostingClassifier |\n",
    "| 0.588235294 | 0.559533114 | 0.608888889 | 0.587142857 | keras        | TRUE          | Sequential                |\n",
    "| 0.558823529 | 0.53968254  | 0.789772727 | 0.592857143 | sklearn      | null          | RandomForestClassifier     |\n",
    "| 0.558823529 | 0.539393939 | 0.682144522 | 0.581428571 | sklearn      | null          | RandomForestClassifier     |\n",
    "| 0.558823529 | 0.518890862 | 0.695       | 0.566428571 | sklearn      | null          | GradientBoostingClassifier |\n",
    "| 0.558823529 | 0.518890862 | 0.695       | 0.566428571 | sklearn      | null          | GradientBoostingClassifier |\n",
    "| 0.558823529 | 0.518890862 | 0.695       | 0.566428571 | sklearn      | null          | GradientBoostingClassifier |\n",
    "| 0.558823529 | 0.518890862 | 0.695       | 0.566428571 | sklearn      | null          | GradientBoostingClassifier |\n",
    "\n",
    "We can tell that *GradientBoosting Classifier* would do a better work for predicting this dataset.\n",
    "\n"
   ]
  },
  {
   "cell_type": "markdown",
   "id": "fb50d964",
   "metadata": {},
   "source": [
    "### [Project 2 Covid Hackathon](https://github.com/yuxuanmaaa/AML/blob/3377297ebeea302f63e034d7182c0ca727caea61/Projects/COVID_Hackathon_Model_Submission_Notebook.ipynb)\n",
    "\n",
    "In the last two years, millions of people worldwide have lost their lives due to COVID-19. Early diagnosis of the disease is crucial in order to limit its spread. Lung images are used for the diagnosis, and the dataset consists of three categories of data: Normal, Covid, and Viral Pneumonia. The images are converted to RGB numerical values, and y-labels are assigned. Each category contains a total of 1344 x-rays demonstrating Covid, Normal, and Viral Pneumonia.\n",
    "\n",
    "I used the following models:\n",
    "\n",
    "\n",
    "| ACCURACY     | F1_SCORE     | PRECISION   | RECALL       | ML_FRAMEWORK | TRANSFER_LEARNING | DEEP_LEARNING | MODEL_TYPE | DEPTH | NUM_PARAMS | CONV2D_LAYERS | DENSE_LAYERS | MAXPOOLING2D_LAYERS | INPUTLAYER_LAYERS | FLATTEN_LAYERS | SELU_ACT | RELU_ACT | SOFTMAX_ACT | LOSS   | OPTIMIZER | MEMORY_SIZE |\n",
    "|--------------|--------------|-------------|--------------|--------------|------------------|---------------|------------|-------|------------|---------------|--------------|---------------------|--------------------|----------------|----------|----------|-------------|--------|-----------|-------------|\n",
    "| 0.897753679  | 0.897733352  | 0.897822517 | 0.897712189  | keras        | TRUE             | TRUE          | Functional | 25    | 22089219   | 16            | 2            | 5                   | 1                  | 1              | null     | 17       | 1           | str    | Adam      | 88362104    |\n",
    "| 0.812548412  | 0.80946134   | 0.812630731 | 0.812448066  | keras        | null             | TRUE          | Sequential | 14    | 1189155    | 8             | 1            | 4                   | null               | 1              | null     | 8        | 1           | str    | Adam      | 4759304     |\n",
    "| 0.769945779  | 0.770965143  | 0.773317012 | 0.769864566  | keras        | null             | TRUE          | Sequential | 11    | 1834051    | 6             | 1            | 3                   | null               | 1              | 2        | 4        | 1           | str    | Adam      | 7338280     |\n",
    "\n",
    "\n",
    "From the table we could tell that the base model *VGG19* with transfer learning performed the best, with an **F1 score of 0.898.**\n",
    "\n",
    "-----------------------------------------------------------------------\n",
    "Meanwhile, looking at the competition board, my best model's ranking is 67. Although with an F1 score of 0.898 isn't too bad, there is still plenty of room to improve.\n",
    "\n"
   ]
  },
  {
   "attachments": {},
   "cell_type": "markdown",
   "id": "628f5678",
   "metadata": {},
   "source": [
    "### [Project 3 Text Classification](https://github.com/yuxuanmaaa/AML/blob/3377297ebeea302f63e034d7182c0ca727caea61/Projects/COVID_Hackathon_Model_Submission_Notebook.ipynb)\n",
    "\n",
    "SST data contains fully labeled parse tree having the sentimental score for each phrase. Building a predictive model like this could help companies or individuals to understand others' feelings. Restaurant could adjust their business model base on the reviews customer left. Investors could adjust their investment model based on the comments or reactions the public has toward current economy form etc. \n",
    "\n",
    "I used the following models:\n",
    "\n",
    "\n",
    "Sure, here's the same data in a markdown table format:\n",
    "\n",
    "| ACCURACY    | F1_SCORE    | PRECISION   | RECALL      | ML_FRAMEWORK | TRANSFER_LEARNING | DEEP_LEARNING | MODEL_TYPE | DEPTH | NUM_PARAMS | EMBEDDING_LAYERS | CONV1D_LAYERS | MAXPOOLING1D_LAYERS | SIMPLERNN_LAYERS | DROPOUT_LAYERS | FLATTEN_LAYERS | LSTM_LAYERS | INPUTLAYER_LAYERS | CONCATENATE_LAYERS | BIDIRECTIONAL_LAYERS | GLOBALMAXPOOLING1D_LAYERS | TIMEDISTRIBUTED_LAYERS | GLOBALAVERAGEPOOLING1D_LAYERS | DENSE_LAYERS | BATCHNORMALIZATION_LAYERS | SIGMOID_ACT | SOFTMAX_ACT | TANH_ACT | RELU_ACT | LOSS     | OPTIMIZER | MEMORY_SIZE | TEAM      | USERNAME   | TIMESTAMP | VERSION |\n",
    "| ----------- | ----------- | ----------- | ----------- | ------------ | ----------------- | ------------- | ---------- | ----- | ---------- | ---------------- | ------------- | -------------------- | ---------------- | -------------- | -------------- | ----------- | ----------------- | ------------------ | ----------------------- | -------------------------- | ----------------------- | ---------------------------- | ------------ | -------------------------- | ----------- | ----------- | -------- | -------- | -------- | --------- | ----------- | ----------- | --------- | ---------- | --------- |\n",
    "| 0.803512624 | 0.802767346 | 0.808324522 | 0.803581068 | keras        | null              | TRUE          | Sequential | 5     | 174658     | 1                | null          | null                 | null             | 1              | 2              | null        | null              | null               | null                    | null                       | null                    | null                          | 1            | null                       | null        | null        | null     | null     | RMSprop | RMSprop   | 699936      | MandyMaaa | 31:22.7   | 382     |\n",
    "| 0.788144896 | 0.787221915 | 0.793393681 | 0.788218142 | keras        | null              | TRUE          | Sequential | 5     | 174658     | 1                | null          | null                 | null             | 1              | 2              | null        | null              | null               | null                    | null                       | null                    | null                          | 1            | null                       | null        | null        | null     | null     | RMSprop | RMSprop   | 699936      | MandyMaaa | 19:35.2   | 302     |\n",
    "| 0.709110867 | 0.708795073 | 0.710089567 | 0.70914787  | keras        | TRUE              | TRUE          | Sequential | 4     | 1128098    | 1                | null          | null                 | null             | 1              | null           | null        | null              | null               | null                    | null                       | null                    | 2                             | null         | 1                          | null        | RMSprop    | null     | null     | RMSprop | 4513136   | MandyMaaa | 13:55.3   | 389     |\n",
    "| 0.499451153 | 0.333089312 | 0.249725576 | 0.5         | keras        | null              | TRUE          | Sequential | 6     | 166274     | 1                | 2             |\n",
    "\n",
    "\n",
    "**1. an Embedding layer and LSTM layers in at least one model**\n",
    "**2. Use an Embedding layer and Conv1d layers in at least one model**\n",
    "**3. Use transfer learning with glove embeddings for at least one of these models**\n",
    "\n",
    "\n",
    "The best model, **with an F1-score of 0.804,** had flatten layers, lstm layers, dense layers. The activation function is also important, probably playing a key role here. I used softmax and tanh. \n",
    "\n",
    "------------------------------------------------------------------------------------\n",
    "\n",
    "Meanwhile, looking at the competition board, my best model's ranking is 52. Although with an F1 score of 0.804 isn't too bad, there is still plenty of room to improve.\n",
    "\n"
   ]
  },
  {
   "cell_type": "markdown",
   "id": "5fb28a8d",
   "metadata": {},
   "source": []
  }
 ],
 "metadata": {
  "kernelspec": {
   "display_name": "Python 3 (ipykernel)",
   "language": "python",
   "name": "python3"
  },
  "language_info": {
   "codemirror_mode": {
    "name": "ipython",
    "version": 3
   },
   "file_extension": ".py",
   "mimetype": "text/x-python",
   "name": "python",
   "nbconvert_exporter": "python",
   "pygments_lexer": "ipython3",
   "version": "3.9.13"
  }
 },
 "nbformat": 4,
 "nbformat_minor": 5
}
