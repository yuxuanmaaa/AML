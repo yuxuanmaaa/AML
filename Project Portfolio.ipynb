{
 "cells": [
  {
   "cell_type": "markdown",
   "id": "3de0315b",
   "metadata": {},
   "source": [
    "### Project Portfolio\n",
    "\n",
    "In this portfolio details each of the projects I wrote for QMSSGR5074 PROJECTS IN ADVANCED MACHINE LEARNING."
   ]
  },
  {
   "cell_type": "code",
   "execution_count": null,
   "id": "c11c6881",
   "metadata": {},
   "outputs": [],
   "source": []
  }
 ],
 "metadata": {
  "kernelspec": {
   "display_name": "Python 3 (ipykernel)",
   "language": "python",
   "name": "python3"
  },
  "language_info": {
   "codemirror_mode": {
    "name": "ipython",
    "version": 3
   },
   "file_extension": ".py",
   "mimetype": "text/x-python",
   "name": "python",
   "nbconvert_exporter": "python",
   "pygments_lexer": "ipython3",
   "version": "3.9.13"
  }
 },
 "nbformat": 4,
 "nbformat_minor": 5
}
